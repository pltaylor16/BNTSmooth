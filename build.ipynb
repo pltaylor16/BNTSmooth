{
 "cells": [
  {
   "cell_type": "code",
   "execution_count": 1,
   "id": "e768b88a-d6ef-4d0e-9335-fba2906454ce",
   "metadata": {},
   "outputs": [
    {
     "name": "stderr",
     "output_type": "stream",
     "text": [
      "/Users/taylor.4264/test/BNTSmooth/bnt_smooth.py:126: HealpyDeprecationWarning: \"verbose\" was deprecated in version 1.15.0 and will be removed in a future version. \n",
      "  delta_g = hp.synfast(full_cl, nside=nside, verbose=False)\n"
     ]
    },
    {
     "name": "stdout",
     "output_type": "stream",
     "text": [
      "Generated 50 lognormal HEALPix maps.\n",
      "Each map has 786432 pixels (nside = 256)\n"
     ]
    }
   ],
   "source": [
    "import numpy as np\n",
    "from bnt_smooth import LognormalWeakLensingSim  # your class file\n",
    "\n",
    "# --- Define a parent n(z) and tomographic binning ---\n",
    "def parent_nz(z):\n",
    "    return z**2 * np.exp(-(z / 0.5)**1.5)\n",
    "\n",
    "def make_equal_ngal_bins(nz_func, z, nbins):\n",
    "    from scipy.interpolate import interp1d\n",
    "    nz = nz_func(z)\n",
    "    nz /= np.trapezoid(nz, z)\n",
    "    cdf = np.cumsum(nz)\n",
    "    cdf /= cdf[-1]\n",
    "    inv_cdf = interp1d(np.concatenate([[0], cdf, [1]]),\n",
    "                       np.concatenate([[z[0]], z, [z[-1]]]))\n",
    "    edges = inv_cdf(np.linspace(0, 1, nbins + 1))\n",
    "    bins = []\n",
    "    for i in range(nbins):\n",
    "        mask = (z >= edges[i]) & (z <= edges[i+1])\n",
    "        bins.append((z[mask], nz[mask]))\n",
    "    return bins, edges\n",
    "\n",
    "# --- Simulation settings ---\n",
    "z = np.linspace(0.01, 2.5, 500)\n",
    "nz_list, _ = make_equal_ngal_bins(parent_nz, z, nbins=3)\n",
    "n_eff_list = [30.0] * 3\n",
    "sigma_eps_list = [0.26] * 3\n",
    "baryon_feedback = 3.13\n",
    "sigma8 = 0.8\n",
    "seed = 1234\n",
    "l_max = 256\n",
    "lognormal_shift = 1.0\n",
    "zmax = 3.0\n",
    "nslices = 50\n",
    "\n",
    "# --- Initialize simulation ---\n",
    "sim = LognormalWeakLensingSim(\n",
    "    nz_list=nz_list,\n",
    "    n_eff_list=n_eff_list,\n",
    "    sigma_eps_list=sigma_eps_list,\n",
    "    baryon_feedback=baryon_feedback,\n",
    "    sigma8=sigma8,\n",
    "    lognormal_shift=lognormal_shift,\n",
    "    seed=seed,\n",
    "    l_max=l_max,\n",
    "    zmax=zmax,\n",
    "    nslices=nslicesimport healpy as hp\n",
    "import matplotlib.pyplot as plt\n",
    "\n",
    "# --- Plot the first map (shell 0) ---\n",
    "hp.mollview(maps[0], title=\"Lognormal Matter Map (Shell 0)\", unit=\"δ\", norm='hist')\n",
    "plt.show()\n",
    ")\n",
    "\n",
    "# --- Generate lognormal matter fields from scratch ---\n",
    "maps = sim.generate_matter_fields_from_scratch()\n",
    "\n",
    "# --- Print summary ---\n",
    "print(f\"Generated {len(maps)} lognormal HEALPix maps.\")\n",
    "print(f\"Each map has {maps[0].size} pixels (nside = {sim.nside})\")"
   ]
  },
  {
   "cell_type": "code",
   "execution_count": null,
   "id": "452ea808-f57a-4450-887d-37d06e8b3025",
   "metadata": {},
   "outputs": [],
   "source": [
    "import healpy as hp\n",
    "import matplotlib.pyplot as plt\n",
    "\n",
    "# --- Plot the first map (shell 0) ---\n",
    "hp.mollview(maps[4], title=\"Lognormal Matter Map (Shell 0)\", unit=\"δ\", norm='hist')\n",
    "plt.show()\n"
   ]
  },
  {
   "cell_type": "code",
   "execution_count": null,
   "id": "814df38e-65ac-49bf-8e98-cf598baa5b37",
   "metadata": {},
   "outputs": [],
   "source": []
  },
  {
   "cell_type": "code",
   "execution_count": null,
   "id": "f695a1cc-d8f9-4539-b702-c9794bd82a49",
   "metadata": {},
   "outputs": [],
   "source": []
  },
  {
   "cell_type": "code",
   "execution_count": null,
   "id": "35463eff-79b9-4d92-9482-8f586a4020bf",
   "metadata": {},
   "outputs": [],
   "source": []
  },
  {
   "cell_type": "code",
   "execution_count": null,
   "id": "e7f4b6b9-b96c-45fc-9c18-99807064c119",
   "metadata": {},
   "outputs": [],
   "source": []
  },
  {
   "cell_type": "code",
   "execution_count": 14,
   "id": "98e18adb-19db-4afe-8e29-d3349de828b0",
   "metadata": {},
   "outputs": [
    {
     "ename": "NameError",
     "evalue": "name 'cosmo' is not defined",
     "output_type": "error",
     "traceback": [
      "\u001b[0;31m---------------------------------------------------------------------------\u001b[0m",
      "\u001b[0;31mNameError\u001b[0m                                 Traceback (most recent call last)",
      "Cell \u001b[0;32mIn[14], line 1\u001b[0m\n\u001b[0;32m----> 1\u001b[0m \u001b[43mcosmo\u001b[49m\n",
      "\u001b[0;31mNameError\u001b[0m: name 'cosmo' is not defined"
     ]
    }
   ],
   "source": [
    "cosmo"
   ]
  },
  {
   "cell_type": "code",
   "execution_count": 2,
   "id": "aa673083-f378-4f47-994c-3ef66ed7ed03",
   "metadata": {},
   "outputs": [],
   "source": [
    "ell, cl = sim.compute_wl_cls()"
   ]
  },
  {
   "cell_type": "code",
   "execution_count": 3,
   "id": "fdf02b78-1a8c-4187-b6b2-19bcccc74e2d",
   "metadata": {},
   "outputs": [
    {
     "data": {
      "text/plain": [
       "(6, 3001)"
      ]
     },
     "execution_count": 3,
     "metadata": {},
     "output_type": "execute_result"
    }
   ],
   "source": [
    "np.shape(cl)"
   ]
  },
  {
   "cell_type": "code",
   "execution_count": 4,
   "id": "ce034880-541f-4c9b-b080-fce75140d084",
   "metadata": {},
   "outputs": [
    {
     "ename": "NameError",
     "evalue": "name 'get_cl_matrix_at_ell' is not defined",
     "output_type": "error",
     "traceback": [
      "\u001b[0;31m---------------------------------------------------------------------------\u001b[0m",
      "\u001b[0;31mNameError\u001b[0m                                 Traceback (most recent call last)",
      "Cell \u001b[0;32mIn[4], line 2\u001b[0m\n\u001b[1;32m      1\u001b[0m ell, \u001b[38;5;28mcls\u001b[39m \u001b[38;5;241m=\u001b[39m sim\u001b[38;5;241m.\u001b[39mcompute_wl_cls()\n\u001b[0;32m----> 2\u001b[0m cl_ell5 \u001b[38;5;241m=\u001b[39m \u001b[43mget_cl_matrix_at_ell\u001b[49m(ell, \u001b[38;5;28mcls\u001b[39m, ell_target\u001b[38;5;241m=\u001b[39m\u001b[38;5;241m5\u001b[39m, nbins\u001b[38;5;241m=\u001b[39msim\u001b[38;5;241m.\u001b[39mnbins)\n\u001b[1;32m      3\u001b[0m \u001b[38;5;28mprint\u001b[39m(cl_ell5)\n",
      "\u001b[0;31mNameError\u001b[0m: name 'get_cl_matrix_at_ell' is not defined"
     ]
    }
   ],
   "source": [
    "ell, cls = sim.compute_wl_cls()\n",
    "cl_ell5 = get_cl_matrix_at_ell(ell, cls, ell_target=5, nbins=sim.nbins)\n",
    "print(cl_ell5)"
   ]
  },
  {
   "cell_type": "code",
   "execution_count": 5,
   "id": "6a65cb28-8606-4c12-90ea-59faf7041e10",
   "metadata": {},
   "outputs": [],
   "source": [
    "def is_positive_definite(matrix):\n",
    "    \"\"\"\n",
    "    Check whether a matrix is positive-definite.\n",
    "\n",
    "    Parameters\n",
    "    ----------\n",
    "    matrix : ndarray\n",
    "        Square symmetric matrix to check.\n",
    "\n",
    "    Returns\n",
    "    -------\n",
    "    is_pd : bool\n",
    "        True if matrix is positive-definite, False otherwise.\n",
    "    \"\"\"\n",
    "    try:\n",
    "        np.linalg.cholesky(matrix)\n",
    "        return True\n",
    "    except np.linalg.LinAlgError:\n",
    "        return False"
   ]
  },
  {
   "cell_type": "code",
   "execution_count": 8,
   "id": "c8e516e7-7275-4445-8a6f-b4dd7d76cd05",
   "metadata": {},
   "outputs": [
    {
     "name": "stdout",
     "output_type": "stream",
     "text": [
      "C_ell=5 is positive-definite ✅\n"
     ]
    }
   ],
   "source": [
    "if is_positive_definite(cl_ell5):\n",
    "    print(\"C_ell=5 is positive-definite ✅\")\n",
    "else:\n",
    "    print(\"C_ell=5 is NOT positive-definite ❌\")"
   ]
  },
  {
   "cell_type": "code",
   "execution_count": 1,
   "id": "5708ad8d-807b-4fc1-b1b0-8cf9856a5c3e",
   "metadata": {},
   "outputs": [
    {
     "data": {
      "text/plain": [
       "'\\ndef check_all_cls_positive_definite(ell_array, cls_list, nbins):\\n    \"\"\"\\n    Check whether each Cl^{ij} matrix at each ell is positive-definite.\\n\\n    Parameters\\n    ----------\\n    ell_array : ndarray\\n        Array of ell values.\\n    cls_list : list of ndarray\\n        Flattened lower-triangular list of Cl arrays.\\n    nbins : int\\n        Number of tomographic bins.\\n    \"\"\"\\n    n_ell = len(ell_array)\\n    for i_ell in range(n_ell):\\n        cl_matrix = np.zeros((nbins, nbins))\\n        idx = 0\\n        for i in range(nbins):\\n            for j in range(i + 1):\\n                cl_matrix[i, j] = cls_list[idx][i_ell]\\n                cl_matrix[j, i] = cl_matrix[i, j]\\n                idx += 1\\n\\n        try:\\n            np.linalg.cholesky(cl_matrix)\\n            print(f\"ell = {ell_array[i_ell]:4d}: ✅ positive-definite\")\\n        except np.linalg.LinAlgError:\\n            print(f\"ell = {ell_array[i_ell]:4d}: ❌ NOT positive-definite\")\\n'"
      ]
     },
     "execution_count": 1,
     "metadata": {},
     "output_type": "execute_result"
    }
   ],
   "source": [
    "\n",
    "def check_all_cls_positive_definite(ell_array, cls_list, nbins):\n",
    "    \"\"\"\n",
    "    Check whether each Cl^{ij} matrix at each ell is positive-definite.\n",
    "\n",
    "    Parameters\n",
    "    ----------\n",
    "    ell_array : ndarray\n",
    "        Array of ell values.\n",
    "    cls_list : list of ndarray\n",
    "        Flattened lower-triangular list of Cl arrays.\n",
    "    nbins : int\n",
    "        Number of tomographic bins.\n",
    "    \"\"\"\n",
    "    n_ell = len(ell_array)\n",
    "    for i_ell in range(n_ell):\n",
    "        cl_matrix = np.zeros((nbins, nbins))\n",
    "        idx = 0\n",
    "        for i in range(nbins):\n",
    "            for j in range(i + 1):\n",
    "                cl_matrix[i, j] = cls_list[idx][i_ell]\n",
    "                cl_matrix[j, i] = cl_matrix[i, j]\n",
    "                idx += 1\n",
    "\n",
    "        try:\n",
    "            np.linalg.cholesky(cl_matrix)\n",
    "            print(f\"ell = {ell_array[i_ell]:4d}: ✅ positive-definite\")\n",
    "        except np.linalg.LinAlgError:\n",
    "            print(f\"ell = {ell_array[i_ell]:4d}: ❌ NOT positive-definite\")\n"
   ]
  },
  {
   "cell_type": "code",
   "execution_count": 2,
   "id": "12782821-f43a-47a3-85e8-c829d5c025d1",
   "metadata": {},
   "outputs": [
    {
     "data": {
      "text/plain": [
       "'\\nell, cls = sim.compute_wl_cls()\\ncheck_all_cls_positive_definite(ell, cls, nbins=sim.nbins)\\n'"
      ]
     },
     "execution_count": 2,
     "metadata": {},
     "output_type": "execute_result"
    }
   ],
   "source": [
    "'''\n",
    "ell, cls = sim.compute_wl_cls()\n",
    "check_all_cls_positive_definite(ell, cls, nbins=sim.nbins)\n",
    "'''"
   ]
  },
  {
   "cell_type": "code",
   "execution_count": 15,
   "id": "cb4b6720-70d5-4e03-81a6-5154d18bbbed",
   "metadata": {},
   "outputs": [],
   "source": [
    "import numpy as np\n",
    "import healpy as hp\n",
    "import matplotlib.pyplot as plt\n",
    "\n",
    "# use the CAMB cosmology that generated the matter power spectra\n",
    "import camb\n",
    "from cosmology import Cosmology"
   ]
  },
  {
   "cell_type": "code",
   "execution_count": 16,
   "id": "2a6f2e98-c959-4608-92b3-595027125cc6",
   "metadata": {},
   "outputs": [],
   "source": [
    "\n",
    "\n",
    "import healpy as hp\n",
    "import matplotlib.pyplot as plt\n",
    "import numpy as np\n",
    "\n",
    "# use the CAMB cosmology that generated the matter power spectra\n",
    "import camb\n",
    "from cosmology import Cosmology\n",
    "\n",
    "# almost all GLASS functionality is available from the `glass` namespace\n",
    "import glass\n",
    "import glass.ext.camb\n",
    "\n",
    "# how many arcmin2 over the entire sphere\n",
    "ARCMIN2_SPHERE = 60**6 // 100 / np.pi\n",
    "\n",
    "# creating a numpy random number generator for sampling\n",
    "rng = np.random.default_rng(seed=42)\n",
    "\n",
    "# cosmology for the simulation\n",
    "h = 0.7\n",
    "Oc = 0.25\n",
    "Ob = 0.05\n",
    "\n",
    "# basic parameters of the simulation\n",
    "nside = lmax = 256\n",
    "\n",
    "# set up CAMB parameters for matter angular power spectrum\n",
    "pars = camb.set_params(\n",
    "    H0=100 * h,\n",
    "    omch2=Oc * h**2,\n",
    "    ombh2=Ob * h**2,\n",
    "    NonLinear=camb.model.NonLinear_both,\n",
    ")\n",
    "\n",
    "# get the cosmology from CAMB\n",
    "cosmo = Cosmology.from_camb(pars)\n",
    "\n",
    "# shells of 200 Mpc in comoving distance spacing\n",
    "zb = glass.distance_grid(cosmo, 0.0, 1.0, dx=200.0)\n",
    "\n",
    "# linear window function for shells\n",
    "shells = glass.linear_windows(zb)\n",
    "\n",
    "# compute the angular matter power spectra of the shells with CAMB\n",
    "cls = glass.ext.camb.matter_cls(pars, lmax, shells)\n",
    "\n",
    "\n",
    "\n",
    "     \n"
   ]
  },
  {
   "cell_type": "code",
   "execution_count": 17,
   "id": "53891dcf-fbd7-406d-95f4-fee9b17da394",
   "metadata": {},
   "outputs": [
    {
     "data": {
      "text/plain": [
       "(136, 257)"
      ]
     },
     "execution_count": 17,
     "metadata": {},
     "output_type": "execute_result"
    }
   ],
   "source": [
    "np.shape(cls)"
   ]
  },
  {
   "cell_type": "code",
   "execution_count": null,
   "id": "e3056284-2b0f-4417-8de7-3d88cab7d2c0",
   "metadata": {},
   "outputs": [],
   "source": []
  },
  {
   "cell_type": "code",
   "execution_count": 20,
   "id": "8c5cde0f-70c8-4d85-acfa-94f9f1aad1b2",
   "metadata": {},
   "outputs": [
    {
     "data": {
      "text/plain": [
       "<cosmology.camb.CambCosmology at 0x11cc48490>"
      ]
     },
     "execution_count": 20,
     "metadata": {},
     "output_type": "execute_result"
    }
   ],
   "source": [
    "cosmo"
   ]
  },
  {
   "cell_type": "code",
   "execution_count": null,
   "id": "8a2afd7c-f045-4a6f-bf90-ee9a6181b79b",
   "metadata": {},
   "outputs": [],
   "source": []
  }
 ],
 "metadata": {
  "kernelspec": {
   "display_name": "Python 3 (ipykernel)",
   "language": "python",
   "name": "python3"
  },
  "language_info": {
   "codemirror_mode": {
    "name": "ipython",
    "version": 3
   },
   "file_extension": ".py",
   "mimetype": "text/x-python",
   "name": "python",
   "nbconvert_exporter": "python",
   "pygments_lexer": "ipython3",
   "version": "3.10.17"
  }
 },
 "nbformat": 4,
 "nbformat_minor": 5
}
