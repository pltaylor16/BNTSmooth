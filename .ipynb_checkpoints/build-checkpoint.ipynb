{
 "cells": [
  {
   "cell_type": "code",
   "execution_count": 1,
   "id": "e768b88a-d6ef-4d0e-9335-fba2906454ce",
   "metadata": {},
   "outputs": [
    {
     "ename": "ModuleNotFoundError",
     "evalue": "No module named 'lens_sbi'",
     "output_type": "error",
     "traceback": [
      "\u001b[0;31m---------------------------------------------------------------------------\u001b[0m",
      "\u001b[0;31mModuleNotFoundError\u001b[0m                       Traceback (most recent call last)",
      "Cell \u001b[0;32mIn[1], line 3\u001b[0m\n\u001b[1;32m      1\u001b[0m \u001b[38;5;28;01mimport\u001b[39;00m \u001b[38;5;21;01mnumpy\u001b[39;00m \u001b[38;5;28;01mas\u001b[39;00m \u001b[38;5;21;01mnp\u001b[39;00m\n\u001b[1;32m      2\u001b[0m \u001b[38;5;28;01mimport\u001b[39;00m \u001b[38;5;21;01mmatplotlib\u001b[39;00m\u001b[38;5;21;01m.\u001b[39;00m\u001b[38;5;21;01mpyplot\u001b[39;00m \u001b[38;5;28;01mas\u001b[39;00m \u001b[38;5;21;01mplt\u001b[39;00m\n\u001b[0;32m----> 3\u001b[0m \u001b[38;5;28;01mfrom\u001b[39;00m \u001b[38;5;21;01mbnt_smooth\u001b[39;00m \u001b[38;5;28;01mimport\u001b[39;00m LognormalWeakLensingSim\n\u001b[1;32m      5\u001b[0m \u001b[38;5;66;03m# --- Define a parent n(z) and tomographic binning ---\u001b[39;00m\n\u001b[1;32m      6\u001b[0m \u001b[38;5;28;01mdef\u001b[39;00m \u001b[38;5;21mparent_nz\u001b[39m(z):\n",
      "File \u001b[0;32m~/test/BNTSmooth/bnt_smooth.py:2\u001b[0m\n\u001b[1;32m      1\u001b[0m \u001b[38;5;28;01mimport\u001b[39;00m \u001b[38;5;21;01mnumpy\u001b[39;00m \u001b[38;5;28;01mas\u001b[39;00m \u001b[38;5;21;01mnp\u001b[39;00m\n\u001b[0;32m----> 2\u001b[0m \u001b[38;5;28;01mfrom\u001b[39;00m \u001b[38;5;21;01mlens_sbi\u001b[39;00m\u001b[38;5;21;01m.\u001b[39;00m\u001b[38;5;21;01msimulation\u001b[39;00m\u001b[38;5;21;01m.\u001b[39;00m\u001b[38;5;21;01mlognormal_field\u001b[39;00m \u001b[38;5;28;01mimport\u001b[39;00m generate_lognormal_maps\n\u001b[1;32m      3\u001b[0m \u001b[38;5;28;01mimport\u001b[39;00m \u001b[38;5;21;01mcopy\u001b[39;00m\n\u001b[1;32m      4\u001b[0m \u001b[38;5;28;01mimport\u001b[39;00m \u001b[38;5;21;01mpyccl\u001b[39;00m \u001b[38;5;28;01mas\u001b[39;00m \u001b[38;5;21;01mccl\u001b[39;00m\n",
      "\u001b[0;31mModuleNotFoundError\u001b[0m: No module named 'lens_sbi'"
     ]
    }
   ],
   "source": [
    "import numpy as np\n",
    "import matplotlib.pyplot as plt\n",
    "from bnt_smooth import LognormalWeakLensingSim\n",
    "\n",
    "# --- Define a parent n(z) and tomographic binning ---\n",
    "def parent_nz(z):\n",
    "    return z**2 * np.exp(-(z / 0.5)**1.5)\n",
    "\n",
    "def make_equal_ngal_bins(nz_func, z, nbins):\n",
    "    from scipy.interpolate import interp1d\n",
    "    nz = nz_func(z)\n",
    "    nz /= np.trapz(nz, z)\n",
    "    cdf = np.cumsum(nz)\n",
    "    cdf /= cdf[-1]\n",
    "    inv_cdf = interp1d(np.concatenate([[0], cdf, [1]]),\n",
    "                       np.concatenate([[z[0]], z, [z[-1]]]))\n",
    "    edges = inv_cdf(np.linspace(0, 1, nbins + 1))\n",
    "    bins = []\n",
    "    for i in range(nbins):\n",
    "        mask = (z >= edges[i]) & (z <= edges[i+1])\n",
    "        bins.append((z[mask], nz[mask]))\n",
    "    return bins\n",
    "\n",
    "# --- Set simulation parameters ---\n",
    "z = np.linspace(0.01, 2.5, 500)\n",
    "nz_list = make_equal_ngal_bins(parent_nz, z, nbins=3)\n",
    "n_eff_list = [30.0, 30.0, 30.0]       # galaxies per arcmin²\n",
    "sigma_eps_list = [0.26, 0.26, 0.26]\n",
    "lognormal_shifts = [0.0, 0.0, 0.0]\n",
    "baryon_feedback = 3.13\n",
    "sigma8 = 0.8\n",
    "seed = 1234\n",
    "l_max = 3000\n",
    "\n",
    "# --- Initialize simulation ---\n",
    "sim = LognormalWeakLensingSim(\n",
    "    nz_list=nz_list,\n",
    "    n_eff_list=n_eff_list,\n",
    "    sigma_eps_list=sigma_eps_list,\n",
    "    baryon_feedback=baryon_feedback,\n",
    "    sigma8=sigma8,\n",
    "    lognormal_shifts=lognormal_shifts,\n",
    "    seed=seed,\n",
    "    l_max=l_max\n",
    ")\n",
    "\n",
    "# --- Generate fields ---\n",
    "maps = sim.generate_lognormal_fields(n_pix=256, map_size_deg=5.0)"
   ]
  },
  {
   "cell_type": "code",
   "execution_count": null,
   "id": "aa673083-f378-4f47-994c-3ef66ed7ed03",
   "metadata": {},
   "outputs": [],
   "source": []
  }
 ],
 "metadata": {
  "kernelspec": {
   "display_name": "Python 3 (ipykernel)",
   "language": "python",
   "name": "python3"
  },
  "language_info": {
   "codemirror_mode": {
    "name": "ipython",
    "version": 3
   },
   "file_extension": ".py",
   "mimetype": "text/x-python",
   "name": "python",
   "nbconvert_exporter": "python",
   "pygments_lexer": "ipython3",
   "version": "3.12.3"
  }
 },
 "nbformat": 4,
 "nbformat_minor": 5
}
